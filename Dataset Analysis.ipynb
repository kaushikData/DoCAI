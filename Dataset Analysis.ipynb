{
 "cells": [
  {
   "cell_type": "markdown",
   "metadata": {
    "ExecuteTime": {
     "end_time": "2020-01-22T19:11:31.617524Z",
     "start_time": "2020-01-22T19:11:31.614016Z"
    }
   },
   "source": [
    "The SQuAD(Stanford Question Answer Dataset) is in JSON format and is very convoluted.\n",
    "\n",
    "In this notebook I will convert the JSON dataset to a clean DataFrame and generate visualizations to understand the SQuAD dataset."
   ]
  },
  {
   "cell_type": "markdown",
   "metadata": {},
   "source": [
    "# Importing Libraries"
   ]
  },
  {
   "cell_type": "code",
   "execution_count": 178,
   "metadata": {
    "ExecuteTime": {
     "end_time": "2020-01-22T21:08:52.384707Z",
     "start_time": "2020-01-22T21:08:52.381818Z"
    }
   },
   "outputs": [],
   "source": [
    "import numpy as np\n",
    "import pandas as pd\n",
    "import json\n",
    "import matplotlib.pyplot as plt\n",
    "import seaborn as sns\n",
    "import pickle"
   ]
  },
  {
   "cell_type": "markdown",
   "metadata": {},
   "source": [
    "# Importing training and development raw json dataset"
   ]
  },
  {
   "cell_type": "code",
   "execution_count": 179,
   "metadata": {
    "ExecuteTime": {
     "end_time": "2020-01-22T21:08:53.300837Z",
     "start_time": "2020-01-22T21:08:53.297776Z"
    }
   },
   "outputs": [],
   "source": [
    "train_input_file_path = 'data/train-v2.0.json'\n",
    "dev_input_file_path = 'data/dev-v2.0.json'\n",
    "json_record_path = ['data', 'paragraphs', 'qas', 'answers']"
   ]
  },
  {
   "cell_type": "code",
   "execution_count": 180,
   "metadata": {
    "ExecuteTime": {
     "end_time": "2020-01-22T21:08:54.319962Z",
     "start_time": "2020-01-22T21:08:53.488757Z"
    }
   },
   "outputs": [],
   "source": [
    "file = json.loads(open('data/train-v2.0.json').read())"
   ]
  },
  {
   "cell_type": "markdown",
   "metadata": {
    "ExecuteTime": {
     "end_time": "2020-01-22T19:59:46.512429Z",
     "start_time": "2020-01-22T19:59:46.508546Z"
    }
   },
   "source": [
    "# Visualizing a passage and a question in the json training dataset"
   ]
  },
  {
   "cell_type": "code",
   "execution_count": 181,
   "metadata": {
    "ExecuteTime": {
     "end_time": "2020-01-22T21:08:54.326352Z",
     "start_time": "2020-01-22T21:08:54.322532Z"
    }
   },
   "outputs": [
    {
     "data": {
      "text/plain": [
       "'Beyoncé Giselle Knowles-Carter (/biːˈjɒnseɪ/ bee-YON-say) (born September 4, 1981) is an American singer, songwriter, record producer and actress. Born and raised in Houston, Texas, she performed in various singing and dancing competitions as a child, and rose to fame in the late 1990s as lead singer of R&B girl-group Destiny\\'s Child. Managed by her father, Mathew Knowles, the group became one of the world\\'s best-selling girl groups of all time. Their hiatus saw the release of Beyoncé\\'s debut album, Dangerously in Love (2003), which established her as a solo artist worldwide, earned five Grammy Awards and featured the Billboard Hot 100 number-one singles \"Crazy in Love\" and \"Baby Boy\".'"
      ]
     },
     "execution_count": 181,
     "metadata": {},
     "output_type": "execute_result"
    }
   ],
   "source": [
    "file['data'][0]['paragraphs'][0]['context']"
   ]
  },
  {
   "cell_type": "code",
   "execution_count": 182,
   "metadata": {
    "ExecuteTime": {
     "end_time": "2020-01-22T21:08:54.332766Z",
     "start_time": "2020-01-22T21:08:54.328841Z"
    }
   },
   "outputs": [
    {
     "data": {
      "text/plain": [
       "{'question': 'When did Beyonce start becoming popular?',\n",
       " 'id': '56be85543aeaaa14008c9063',\n",
       " 'answers': [{'text': 'in the late 1990s', 'answer_start': 269}],\n",
       " 'is_impossible': False}"
      ]
     },
     "execution_count": 182,
     "metadata": {},
     "output_type": "execute_result"
    }
   ],
   "source": [
    "file['data'][0]['paragraphs'][0]['qas'][0]"
   ]
  },
  {
   "cell_type": "markdown",
   "metadata": {},
   "source": [
    "# Preprocessing json data to Dataframe"
   ]
  },
  {
   "cell_type": "code",
   "execution_count": 183,
   "metadata": {
    "ExecuteTime": {
     "end_time": "2020-01-22T21:08:54.408874Z",
     "start_time": "2020-01-22T21:08:54.398751Z"
    }
   },
   "outputs": [],
   "source": [
    "def squad_json_to_dataframe(input_file_path, json_record_path=['data','paragraphs','qas','answers'], verbose=1, train = True):\n",
    "    \"\"\"\n",
    "    input_file_path: this is the path to the squad train or development json file.\n",
    "    record_path: path to deepest level in json file default value is ['data','paragraphs','qas','answers']\n",
    "    by default verbose is 1 \n",
    "    \"\"\"\n",
    "    if verbose:\n",
    "        print(\"Reading the json file\")\n",
    "        \n",
    "    # loading the json file\n",
    "    file = json.loads(open(input_file_path).read())\n",
    "    \n",
    "    if verbose:\n",
    "        print(\"Processing...\")\n",
    "        \n",
    "    # Parse different levels in the json file\n",
    "    js = pd.io.json.json_normalize(file, json_record_path)\n",
    "    m = pd.io.json.json_normalize(file, json_record_path[:-1])\n",
    "    r = pd.io.json.json_normalize(file, json_record_path[:-2])\n",
    "    \n",
    "    # Combine it into single DataFrame\n",
    "    idx = np.repeat(r['context'].values, r.qas.str.len())\n",
    "    # unlike training dataset development dataset is in different json format like development dataset has multiple answers for a single question\n",
    "    if train:\n",
    "        ndx  = np.repeat(m['id'].values, m['answers'].str.len())\n",
    "        m['context'] = idx\n",
    "        js['q_idx'] = ndx\n",
    "        main = pd.concat([m[['id', 'question', 'context']].set_index('id'), js.set_index('q_idx')], 1, sort=False).reset_index()\n",
    "        main['c_id'] = main['context'].factorize()[0]\n",
    "    else:\n",
    "        m['context'] = idx\n",
    "        main = m[['id', 'question', 'context', 'answers']].set_index('id').reset_index()\n",
    "        main['c_id'] = main['context'].factorize()[0]\n",
    "        \n",
    "    if verbose:\n",
    "        print(\"Shape of the dataframe is {}\".format(main.shape))\n",
    "        print(\"Done\")\n",
    "        \n",
    "    return main"
   ]
  },
  {
   "cell_type": "code",
   "execution_count": 184,
   "metadata": {
    "ExecuteTime": {
     "end_time": "2020-01-22T21:08:54.604867Z",
     "start_time": "2020-01-22T21:08:54.594638Z"
    }
   },
   "outputs": [
    {
     "ename": "TypeError",
     "evalue": "squad_json_to_dataframe() got an unexpected keyword argument 'record_path'",
     "output_type": "error",
     "traceback": [
      "\u001b[0;31m---------------------------------------------------------------------------\u001b[0m",
      "\u001b[0;31mTypeError\u001b[0m                                 Traceback (most recent call last)",
      "\u001b[0;32m<ipython-input-184-cb06ebbb6173>\u001b[0m in \u001b[0;36m<module>\u001b[0;34m\u001b[0m\n\u001b[0;32m----> 1\u001b[0;31m \u001b[0mtrain\u001b[0m \u001b[0;34m=\u001b[0m \u001b[0msquad_json_to_dataframe\u001b[0m\u001b[0;34m(\u001b[0m\u001b[0mtrain_input_file_path\u001b[0m\u001b[0;34m,\u001b[0m \u001b[0mrecord_path\u001b[0m\u001b[0;34m=\u001b[0m\u001b[0mrecord_path\u001b[0m\u001b[0;34m,\u001b[0m \u001b[0mtrain\u001b[0m \u001b[0;34m=\u001b[0m \u001b[0;32mTrue\u001b[0m\u001b[0;34m)\u001b[0m\u001b[0;34m\u001b[0m\u001b[0;34m\u001b[0m\u001b[0m\n\u001b[0m",
      "\u001b[0;31mTypeError\u001b[0m: squad_json_to_dataframe() got an unexpected keyword argument 'record_path'"
     ]
    }
   ],
   "source": [
    "train = squad_json_to_dataframe(train_input_file_path, record_path=record_path, train = True)"
   ]
  },
  {
   "cell_type": "code",
   "execution_count": 185,
   "metadata": {
    "ExecuteTime": {
     "end_time": "2020-01-22T21:08:54.769512Z",
     "start_time": "2020-01-22T21:08:54.761435Z"
    }
   },
   "outputs": [
    {
     "ename": "TypeError",
     "evalue": "squad_json_to_dataframe() got an unexpected keyword argument 'record_path'",
     "output_type": "error",
     "traceback": [
      "\u001b[0;31m---------------------------------------------------------------------------\u001b[0m",
      "\u001b[0;31mTypeError\u001b[0m                                 Traceback (most recent call last)",
      "\u001b[0;32m<ipython-input-185-bb46b635ec72>\u001b[0m in \u001b[0;36m<module>\u001b[0;34m\u001b[0m\n\u001b[0;32m----> 1\u001b[0;31m \u001b[0mdev\u001b[0m \u001b[0;34m=\u001b[0m \u001b[0msquad_json_to_dataframe\u001b[0m\u001b[0;34m(\u001b[0m\u001b[0mdev_input_file_path\u001b[0m\u001b[0;34m,\u001b[0m \u001b[0mrecord_path\u001b[0m\u001b[0;34m=\u001b[0m\u001b[0mrecord_path\u001b[0m\u001b[0;34m,\u001b[0m \u001b[0mtrain\u001b[0m \u001b[0;34m=\u001b[0m \u001b[0;32mFalse\u001b[0m\u001b[0;34m)\u001b[0m\u001b[0;34m\u001b[0m\u001b[0;34m\u001b[0m\u001b[0m\n\u001b[0m",
      "\u001b[0;31mTypeError\u001b[0m: squad_json_to_dataframe() got an unexpected keyword argument 'record_path'"
     ]
    }
   ],
   "source": [
    "dev = squad_json_to_dataframe(dev_input_file_path, record_path=record_path, train = False)"
   ]
  },
  {
   "cell_type": "markdown",
   "metadata": {},
   "source": [
    "# Visualizing 5 samples of training and development dataframe"
   ]
  },
  {
   "cell_type": "code",
   "execution_count": 186,
   "metadata": {
    "ExecuteTime": {
     "end_time": "2020-01-22T21:08:55.136074Z",
     "start_time": "2020-01-22T21:08:55.118161Z"
    }
   },
   "outputs": [
    {
     "data": {
      "text/html": [
       "<div>\n",
       "<style scoped>\n",
       "    .dataframe tbody tr th:only-of-type {\n",
       "        vertical-align: middle;\n",
       "    }\n",
       "\n",
       "    .dataframe tbody tr th {\n",
       "        vertical-align: top;\n",
       "    }\n",
       "\n",
       "    .dataframe thead th {\n",
       "        text-align: right;\n",
       "    }\n",
       "</style>\n",
       "<table border=\"1\" class=\"dataframe\">\n",
       "  <thead>\n",
       "    <tr style=\"text-align: right;\">\n",
       "      <th></th>\n",
       "      <th>index</th>\n",
       "      <th>question</th>\n",
       "      <th>context</th>\n",
       "      <th>answer_start</th>\n",
       "      <th>text</th>\n",
       "      <th>c_id</th>\n",
       "      <th>question wc</th>\n",
       "    </tr>\n",
       "  </thead>\n",
       "  <tbody>\n",
       "    <tr>\n",
       "      <th>46887</th>\n",
       "      <td>571a354b4faf5e1900b8a91c</td>\n",
       "      <td>How long does sensory  memory to to store info...</td>\n",
       "      <td>Sensory memory holds sensory information less ...</td>\n",
       "      <td>41.0</td>\n",
       "      <td>less than one second</td>\n",
       "      <td>7473</td>\n",
       "      <td>9</td>\n",
       "    </tr>\n",
       "    <tr>\n",
       "      <th>120580</th>\n",
       "      <td>57315cc8e6313a140071ce85</td>\n",
       "      <td>Who wrote the Communist Manifesto?</td>\n",
       "      <td>Karl Marx published the Communist Manifesto in...</td>\n",
       "      <td>0.0</td>\n",
       "      <td>Karl Marx</td>\n",
       "      <td>17575</td>\n",
       "      <td>5</td>\n",
       "    </tr>\n",
       "    <tr>\n",
       "      <th>43942</th>\n",
       "      <td>5ad36796604f3c001a3fe09c</td>\n",
       "      <td>How many ministers did Elizabeth consult befor...</td>\n",
       "      <td>The Suez crisis and the choice of Eden's succe...</td>\n",
       "      <td>NaN</td>\n",
       "      <td>NaN</td>\n",
       "      <td>7066</td>\n",
       "      <td>13</td>\n",
       "    </tr>\n",
       "    <tr>\n",
       "      <th>91245</th>\n",
       "      <td>5729315c3f37b319004780d3</td>\n",
       "      <td>What did the people educated in Western Europe...</td>\n",
       "      <td>Kaszycka et al. (2009) in 2002–2003 surveyed E...</td>\n",
       "      <td>337.0</td>\n",
       "      <td>race</td>\n",
       "      <td>13544</td>\n",
       "      <td>17</td>\n",
       "    </tr>\n",
       "    <tr>\n",
       "      <th>43255</th>\n",
       "      <td>570e2db80b85d914000d7d14</td>\n",
       "      <td>Who isolated radium in uranium ore?</td>\n",
       "      <td>The discovery and isolation of radium in urani...</td>\n",
       "      <td>70.0</td>\n",
       "      <td>Marie Curie</td>\n",
       "      <td>6987</td>\n",
       "      <td>6</td>\n",
       "    </tr>\n",
       "  </tbody>\n",
       "</table>\n",
       "</div>"
      ],
      "text/plain": [
       "                           index  \\\n",
       "46887   571a354b4faf5e1900b8a91c   \n",
       "120580  57315cc8e6313a140071ce85   \n",
       "43942   5ad36796604f3c001a3fe09c   \n",
       "91245   5729315c3f37b319004780d3   \n",
       "43255   570e2db80b85d914000d7d14   \n",
       "\n",
       "                                                 question  \\\n",
       "46887   How long does sensory  memory to to store info...   \n",
       "120580                 Who wrote the Communist Manifesto?   \n",
       "43942   How many ministers did Elizabeth consult befor...   \n",
       "91245   What did the people educated in Western Europe...   \n",
       "43255                 Who isolated radium in uranium ore?   \n",
       "\n",
       "                                                  context  answer_start  \\\n",
       "46887   Sensory memory holds sensory information less ...          41.0   \n",
       "120580  Karl Marx published the Communist Manifesto in...           0.0   \n",
       "43942   The Suez crisis and the choice of Eden's succe...           NaN   \n",
       "91245   Kaszycka et al. (2009) in 2002–2003 surveyed E...         337.0   \n",
       "43255   The discovery and isolation of radium in urani...          70.0   \n",
       "\n",
       "                        text   c_id  question wc  \n",
       "46887   less than one second   7473            9  \n",
       "120580             Karl Marx  17575            5  \n",
       "43942                    NaN   7066           13  \n",
       "91245                   race  13544           17  \n",
       "43255            Marie Curie   6987            6  "
      ]
     },
     "execution_count": 186,
     "metadata": {},
     "output_type": "execute_result"
    }
   ],
   "source": [
    "train.sample(5)"
   ]
  },
  {
   "cell_type": "code",
   "execution_count": 187,
   "metadata": {
    "ExecuteTime": {
     "end_time": "2020-01-22T21:08:55.300342Z",
     "start_time": "2020-01-22T21:08:55.290065Z"
    },
    "scrolled": true
   },
   "outputs": [
    {
     "data": {
      "text/html": [
       "<div>\n",
       "<style scoped>\n",
       "    .dataframe tbody tr th:only-of-type {\n",
       "        vertical-align: middle;\n",
       "    }\n",
       "\n",
       "    .dataframe tbody tr th {\n",
       "        vertical-align: top;\n",
       "    }\n",
       "\n",
       "    .dataframe thead th {\n",
       "        text-align: right;\n",
       "    }\n",
       "</style>\n",
       "<table border=\"1\" class=\"dataframe\">\n",
       "  <thead>\n",
       "    <tr style=\"text-align: right;\">\n",
       "      <th></th>\n",
       "      <th>id</th>\n",
       "      <th>question</th>\n",
       "      <th>context</th>\n",
       "      <th>answers</th>\n",
       "      <th>c_id</th>\n",
       "    </tr>\n",
       "  </thead>\n",
       "  <tbody>\n",
       "    <tr>\n",
       "      <th>4311</th>\n",
       "      <td>7e1e4fceda55a2fcf3cdddbb8</td>\n",
       "      <td>Who has the Islamic Liberation Party never at...</td>\n",
       "      <td>Another of the Egyptian groups which employed ...</td>\n",
       "      <td>[]</td>\n",
       "      <td>453</td>\n",
       "    </tr>\n",
       "    <tr>\n",
       "      <th>4071</th>\n",
       "      <td>05b7fd3b712c9b7cda7fe99a6</td>\n",
       "      <td>What aspects of life does Islamism not seek t...</td>\n",
       "      <td>Islamism, also known as Political Islam (Arabi...</td>\n",
       "      <td>[]</td>\n",
       "      <td>429</td>\n",
       "    </tr>\n",
       "    <tr>\n",
       "      <th>3987</th>\n",
       "      <td>ece4d9dec641eff63201022fc</td>\n",
       "      <td>How many days does the Parliament have to nomi...</td>\n",
       "      <td>Under the Scotland Act 1998, ordinary general ...</td>\n",
       "      <td>[{'text': '28', 'answer_start': 499}, {'text':...</td>\n",
       "      <td>420</td>\n",
       "    </tr>\n",
       "    <tr>\n",
       "      <th>156</th>\n",
       "      <td>37a69cefaca29a42db43f6ee6</td>\n",
       "      <td>Who's chains were made out of copper?</td>\n",
       "      <td>Various princes of the Holy Land arrived in Li...</td>\n",
       "      <td>[]</td>\n",
       "      <td>27</td>\n",
       "    </tr>\n",
       "    <tr>\n",
       "      <th>4622</th>\n",
       "      <td>4d87ce4e37f1008aaabe5eb3e</td>\n",
       "      <td>What weapons were the Zulus using during the ...</td>\n",
       "      <td>Along with advancements in communication, Euro...</td>\n",
       "      <td>[]</td>\n",
       "      <td>485</td>\n",
       "    </tr>\n",
       "  </tbody>\n",
       "</table>\n",
       "</div>"
      ],
      "text/plain": [
       "                             id  \\\n",
       "4311  7e1e4fceda55a2fcf3cdddbb8   \n",
       "4071  05b7fd3b712c9b7cda7fe99a6   \n",
       "3987  ece4d9dec641eff63201022fc   \n",
       "156   37a69cefaca29a42db43f6ee6   \n",
       "4622  4d87ce4e37f1008aaabe5eb3e   \n",
       "\n",
       "                                               question  \\\n",
       "4311   Who has the Islamic Liberation Party never at...   \n",
       "4071   What aspects of life does Islamism not seek t...   \n",
       "3987  How many days does the Parliament have to nomi...   \n",
       "156               Who's chains were made out of copper?   \n",
       "4622   What weapons were the Zulus using during the ...   \n",
       "\n",
       "                                                context  \\\n",
       "4311  Another of the Egyptian groups which employed ...   \n",
       "4071  Islamism, also known as Political Islam (Arabi...   \n",
       "3987  Under the Scotland Act 1998, ordinary general ...   \n",
       "156   Various princes of the Holy Land arrived in Li...   \n",
       "4622  Along with advancements in communication, Euro...   \n",
       "\n",
       "                                                answers  c_id  \n",
       "4311                                                 []   453  \n",
       "4071                                                 []   429  \n",
       "3987  [{'text': '28', 'answer_start': 499}, {'text':...   420  \n",
       "156                                                  []    27  \n",
       "4622                                                 []   485  "
      ]
     },
     "execution_count": 187,
     "metadata": {},
     "output_type": "execute_result"
    }
   ],
   "source": [
    "dev.sample(5)"
   ]
  },
  {
   "cell_type": "markdown",
   "metadata": {},
   "source": [
    "# Saving datasets using pickle"
   ]
  },
  {
   "cell_type": "code",
   "execution_count": 188,
   "metadata": {
    "ExecuteTime": {
     "end_time": "2020-01-22T21:08:55.859478Z",
     "start_time": "2020-01-22T21:08:55.642621Z"
    }
   },
   "outputs": [],
   "source": [
    "trainfile = open('squad_train','wb')\n",
    "devfile = open('squad_dev','wb')\n",
    "pickle.dump(train,trainfile)\n",
    "pickle.dump(dev,devfile)\n",
    "trainfile.close()\n",
    "devfile.close()"
   ]
  },
  {
   "cell_type": "markdown",
   "metadata": {
    "ExecuteTime": {
     "end_time": "2020-01-22T19:39:50.209855Z",
     "start_time": "2020-01-22T19:39:50.204892Z"
    }
   },
   "source": [
    "# Visualizing training questions word count"
   ]
  },
  {
   "cell_type": "code",
   "execution_count": 189,
   "metadata": {
    "ExecuteTime": {
     "end_time": "2020-01-22T21:08:56.109819Z",
     "start_time": "2020-01-22T21:08:55.976182Z"
    }
   },
   "outputs": [],
   "source": [
    "train['question wc'] = train['question'].apply(lambda x : len(x.split()))"
   ]
  },
  {
   "cell_type": "code",
   "execution_count": 190,
   "metadata": {
    "ExecuteTime": {
     "end_time": "2020-01-22T21:08:56.419988Z",
     "start_time": "2020-01-22T21:08:56.146932Z"
    }
   },
   "outputs": [
    {
     "data": {
      "text/plain": [
       "<matplotlib.axes._subplots.AxesSubplot at 0x1a55252208>"
      ]
     },
     "execution_count": 190,
     "metadata": {},
     "output_type": "execute_result"
    },
    {
     "data": {
      "image/png": "[encoded data removed]",
      "text/plain": [
       "<Figure size 432x288 with 1 Axes>"
      ]
     },
     "metadata": {
      "needs_background": "light"
     },
     "output_type": "display_data"
    }
   ],
   "source": [
    "sns.distplot(train['question wc'],  kde=False, label='train')"
   ]
  },
  {
   "cell_type": "code",
   "execution_count": 191,
   "metadata": {
    "ExecuteTime": {
     "end_time": "2020-01-22T21:09:14.311589Z",
     "start_time": "2020-01-22T21:08:56.422402Z"
    }
   },
   "outputs": [],
   "source": [
    "train['question wc'] >= 30\n",
    "cnt = 0\n",
    "for i in range(len(train)):\n",
    "    if train.iloc[i]['question wc'] >= 30:\n",
    "        cnt += 1"
   ]
  },
  {
   "cell_type": "code",
   "execution_count": 192,
   "metadata": {
    "ExecuteTime": {
     "end_time": "2020-01-22T21:09:14.316589Z",
     "start_time": "2020-01-22T21:09:14.313670Z"
    },
    "scrolled": true
   },
   "outputs": [
    {
     "name": "stdout",
     "output_type": "stream",
     "text": [
      "99.97314282644895\n"
     ]
    }
   ],
   "source": [
    "print (((len(train) - cnt) * 100 / len(train))) "
   ]
  },
  {
   "cell_type": "markdown",
   "metadata": {},
   "source": [
    "*99.98 percent of training questions are under 30 words*"
   ]
  },
  {
   "cell_type": "markdown",
   "metadata": {
    "ExecuteTime": {
     "end_time": "2020-01-22T20:22:57.534093Z",
     "start_time": "2020-01-22T20:22:57.529058Z"
    }
   },
   "source": [
    "# Visualizing training paragraphs word count"
   ]
  },
  {
   "cell_type": "code",
   "execution_count": 193,
   "metadata": {
    "ExecuteTime": {
     "end_time": "2020-01-22T21:09:14.331248Z",
     "start_time": "2020-01-22T21:09:14.319217Z"
    }
   },
   "outputs": [],
   "source": [
    "paragraphs = train[\"context\"]"
   ]
  },
  {
   "cell_type": "code",
   "execution_count": 194,
   "metadata": {
    "ExecuteTime": {
     "end_time": "2020-01-22T21:09:14.347914Z",
     "start_time": "2020-01-22T21:09:14.336996Z"
    }
   },
   "outputs": [
    {
     "data": {
      "text/plain": [
       "0    Beyoncé Giselle Knowles-Carter (/biːˈjɒnseɪ/ b...\n",
       "1    Beyoncé Giselle Knowles-Carter (/biːˈjɒnseɪ/ b...\n",
       "2    Beyoncé Giselle Knowles-Carter (/biːˈjɒnseɪ/ b...\n",
       "3    Beyoncé Giselle Knowles-Carter (/biːˈjɒnseɪ/ b...\n",
       "4    Beyoncé Giselle Knowles-Carter (/biːˈjɒnseɪ/ b...\n",
       "Name: context, dtype: object"
      ]
     },
     "execution_count": 194,
     "metadata": {},
     "output_type": "execute_result"
    }
   ],
   "source": [
    "paragraphs.head()"
   ]
  },
  {
   "cell_type": "code",
   "execution_count": 195,
   "metadata": {
    "ExecuteTime": {
     "end_time": "2020-01-22T21:09:14.360614Z",
     "start_time": "2020-01-22T21:09:14.349844Z"
    }
   },
   "outputs": [],
   "source": [
    "paragraphs = paragraph.drop_duplicates()"
   ]
  },
  {
   "cell_type": "code",
   "execution_count": 196,
   "metadata": {
    "ExecuteTime": {
     "end_time": "2020-01-22T21:09:14.367537Z",
     "start_time": "2020-01-22T21:09:14.363999Z"
    }
   },
   "outputs": [
    {
     "data": {
      "text/plain": [
       "19029"
      ]
     },
     "execution_count": 196,
     "metadata": {},
     "output_type": "execute_result"
    }
   ],
   "source": [
    "len(paragraphs)"
   ]
  },
  {
   "cell_type": "markdown",
   "metadata": {
    "ExecuteTime": {
     "end_time": "2020-01-22T20:47:09.962863Z",
     "start_time": "2020-01-22T20:47:09.958507Z"
    }
   },
   "source": [
    "There are totally 19030 passages in training dataset"
   ]
  },
  {
   "cell_type": "code",
   "execution_count": 197,
   "metadata": {
    "ExecuteTime": {
     "end_time": "2020-01-22T21:09:14.531828Z",
     "start_time": "2020-01-22T21:09:14.369954Z"
    }
   },
   "outputs": [],
   "source": [
    "paragraphs['wc'] = paragraphs.iloc[:].apply(lambda x : len(x.split()))"
   ]
  },
  {
   "cell_type": "code",
   "execution_count": 198,
   "metadata": {
    "ExecuteTime": {
     "end_time": "2020-01-22T21:09:14.777096Z",
     "start_time": "2020-01-22T21:09:14.533619Z"
    }
   },
   "outputs": [
    {
     "data": {
      "text/plain": [
       "<matplotlib.axes._subplots.AxesSubplot at 0x14e4dd358>"
      ]
     },
     "execution_count": 198,
     "metadata": {},
     "output_type": "execute_result"
    },
    {
     "data": {
      "image/png": "[encoded data removed]",
      "text/plain": [
       "<Figure size 432x288 with 1 Axes>"
      ]
     },
     "metadata": {
      "needs_background": "light"
     },
     "output_type": "display_data"
    }
   ],
   "source": [
    "sns.distplot(paragraphs['wc'],  kde=False, label='train')"
   ]
  },
  {
   "cell_type": "code",
   "execution_count": 199,
   "metadata": {
    "ExecuteTime": {
     "end_time": "2020-01-22T21:09:33.146846Z",
     "start_time": "2020-01-22T21:09:14.778828Z"
    }
   },
   "outputs": [],
   "source": [
    "paragraphs['wc'] >= 400\n",
    "cnt = 0\n",
    "for i in range(len(train)):\n",
    "    if train.iloc[i]['question wc'] >= 30:\n",
    "        cnt += 1"
   ]
  },
  {
   "cell_type": "code",
   "execution_count": 200,
   "metadata": {
    "ExecuteTime": {
     "end_time": "2020-01-22T21:09:33.152019Z",
     "start_time": "2020-01-22T21:09:33.148662Z"
    }
   },
   "outputs": [
    {
     "name": "stdout",
     "output_type": "stream",
     "text": [
      "99.81607987388334\n"
     ]
    }
   ],
   "source": [
    "print (((len(paragraphs) - cnt) * 100 / len(paragraphs))) "
   ]
  },
  {
   "cell_type": "markdown",
   "metadata": {
    "ExecuteTime": {
     "end_time": "2020-01-22T20:27:31.634392Z",
     "start_time": "2020-01-22T20:27:31.631443Z"
    }
   },
   "source": [
    "99.8 percent of paragraphs are under 400 words"
   ]
  }
 ],
 "metadata": {
  "kernelspec": {
   "display_name": "Python 3",
   "language": "python",
   "name": "python3"
  },
  "language_info": {
   "codemirror_mode": {
    "name": "ipython",
    "version": 3
   },
   "file_extension": ".py",
   "mimetype": "text/x-python",
   "name": "python",
   "nbconvert_exporter": "python",
   "pygments_lexer": "ipython3",
   "version": "3.7.3"
  },
  "toc": {
   "base_numbering": 1,
   "nav_menu": {},
   "number_sections": true,
   "sideBar": true,
   "skip_h1_title": false,
   "title_cell": "Table of Contents",
   "title_sidebar": "Contents",
   "toc_cell": false,
   "toc_position": {},
   "toc_section_display": true,
   "toc_window_display": false
  }
 },
 "nbformat": 4,
 "nbformat_minor": 2
}
